{
 "cells": [
  {
   "cell_type": "markdown",
   "id": "a37d0fc8",
   "metadata": {},
   "source": [
    "# Vector Database Operations\n",
    "\n",
    "A simple notebook for adding and viewing vector data in PostgreSQL with pgvector."
   ]
  },
  {
   "cell_type": "markdown",
   "id": "ebbef510",
   "metadata": {},
   "source": [
    "## 1. Setup and Imports"
   ]
  },
  {
   "cell_type": "code",
   "execution_count": 1,
   "id": "e2ee2bd9",
   "metadata": {},
   "outputs": [
    {
     "name": "stdout",
     "output_type": "stream",
     "text": [
      "Libraries imported successfully!\n"
     ]
    }
   ],
   "source": [
    "# Import required libraries\n",
    "import psycopg2\n",
    "import numpy as np\n",
    "import pandas as pd\n",
    "from sqlalchemy import create_engine\n",
    "import json\n",
    "\n",
    "print(\"Libraries imported successfully!\")"
   ]
  },
  {
   "cell_type": "markdown",
   "id": "b0571f88",
   "metadata": {},
   "source": [
    "## 2. Database Connection"
   ]
  },
  {
   "cell_type": "code",
   "execution_count": 2,
   "id": "66cd5c7c",
   "metadata": {},
   "outputs": [
    {
     "name": "stdout",
     "output_type": "stream",
     "text": [
      "✅ Connected to database successfully!\n"
     ]
    }
   ],
   "source": [
    "# Database configuration\n",
    "DB_CONFIG = {\n",
    "    'host': 'localhost',\n",
    "    'port': '5432',\n",
    "    'database': 'rag_db',\n",
    "    'user': 'rag_user',\n",
    "    'password': 'rag_password'\n",
    "}\n",
    "\n",
    "def connect_db():\n",
    "    \"\"\"Connect to PostgreSQL database\"\"\"\n",
    "    try:\n",
    "        conn = psycopg2.connect(**DB_CONFIG)\n",
    "        print(\"✅ Connected to database successfully!\")\n",
    "        return conn\n",
    "    except Exception as e:\n",
    "        print(f\"❌ Connection failed: {e}\")\n",
    "        return None\n",
    "\n",
    "# Create connection\n",
    "conn = connect_db()\n",
    "\n",
    "# Create SQLAlchemy engine for pandas\n",
    "db_url = f\"postgresql://{DB_CONFIG['user']}:{DB_CONFIG['password']}@{DB_CONFIG['host']}:{DB_CONFIG['port']}/{DB_CONFIG['database']}\"\n",
    "engine = create_engine(db_url)"
   ]
  },
  {
   "cell_type": "markdown",
   "id": "d75405fc",
   "metadata": {},
   "source": [
    "## 3. Add Vector Data"
   ]
  },
  {
   "cell_type": "code",
   "execution_count": 4,
   "id": "bf347845",
   "metadata": {},
   "outputs": [
    {
     "name": "stdout",
     "output_type": "stream",
     "text": [
      "📝 Adding sample data...\n",
      "✅ Added sample data with ID: f2aa41e4-d084-4c0f-9169-4f4bbb91713c\n",
      "✅ Added document embedding with ID: a7d74c04-214e-4b6b-b960-d87874e1a3c1\n"
     ]
    }
   ],
   "source": [
    "def add_sample_data(content, vector_data, metadata=None):\n",
    "    \"\"\"Add sample data with vector embedding\"\"\"\n",
    "    if not conn:\n",
    "        print(\"❌ No database connection\")\n",
    "        return False\n",
    "    \n",
    "    try:\n",
    "        with conn.cursor() as cursor:\n",
    "            # Convert vector to PostgreSQL format\n",
    "            vector_str = '[' + ','.join(map(str, vector_data)) + ']'\n",
    "            \n",
    "            # Insert into sample_data table\n",
    "            cursor.execute(\"\"\"\n",
    "                INSERT INTO sample_data (data, embedding) \n",
    "                VALUES (%s, %s::VECTOR)\n",
    "                RETURNING id\n",
    "            \"\"\", (json.dumps({\n",
    "                'content': content,\n",
    "                'type': 'sample',\n",
    "                'metadata': metadata or {}\n",
    "            }), vector_str))\n",
    "            \n",
    "            new_id = cursor.fetchone()[0]\n",
    "            conn.commit()\n",
    "            \n",
    "            print(f\"✅ Added sample data with ID: {new_id}\")\n",
    "            return new_id\n",
    "            \n",
    "    except Exception as e:\n",
    "        print(f\"❌ Error adding data: {e}\")\n",
    "        conn.rollback()\n",
    "        return False\n",
    "\n",
    "def add_document_embedding(content, vector_data, metadata=None):\n",
    "    \"\"\"Add document with vector embedding\"\"\"\n",
    "    if not conn:\n",
    "        print(\"❌ No database connection\")\n",
    "        return False\n",
    "    \n",
    "    try:\n",
    "        with conn.cursor() as cursor:\n",
    "            # Convert vector to PostgreSQL format\n",
    "            vector_str = '[' + ','.join(map(str, vector_data)) + ']'\n",
    "            \n",
    "            # Insert into document_embeddings table\n",
    "            cursor.execute(\"\"\"\n",
    "                INSERT INTO document_embeddings (content, embedding, metadata) \n",
    "                VALUES (%s, %s::VECTOR, %s)\n",
    "                RETURNING id\n",
    "            \"\"\", (content, vector_str, json.dumps(metadata or {})))\n",
    "            \n",
    "            new_id = cursor.fetchone()[0]\n",
    "            conn.commit()\n",
    "            \n",
    "            print(f\"✅ Added document embedding with ID: {new_id}\")\n",
    "            return new_id\n",
    "            \n",
    "    except Exception as e:\n",
    "        print(f\"❌ Error adding document: {e}\")\n",
    "        conn.rollback()\n",
    "        return False\n",
    "\n",
    "# Example usage\n",
    "print(\"📝 Adding sample data...\")\n",
    "\n",
    "# Add sample data (3D vector)\n",
    "sample_id = add_sample_data(\n",
    "    content=\"This is a sample document for testing\",\n",
    "    vector_data=[0.1, 0.2, 0.3],\n",
    "    metadata={'source': 'notebook', 'category': 'test'}\n",
    ")\n",
    "\n",
    "# Add document embedding (5D vector)\n",
    "doc_id = add_document_embedding(\n",
    "    content=\"Another document with different content for similarity testing\",\n",
    "    vector_data=[0.4, 0.5, 0.6, 0.7, 0.8],\n",
    "    metadata={'source': 'notebook', 'category': 'example'}\n",
    ")"
   ]
  },
  {
   "cell_type": "markdown",
   "id": "fd34ad76",
   "metadata": {},
   "source": [
    "## 4. View Data"
   ]
  },
  {
   "cell_type": "code",
   "execution_count": 6,
   "id": "5a4bbd92",
   "metadata": {},
   "outputs": [
    {
     "name": "stdout",
     "output_type": "stream",
     "text": [
      "=== SAMPLE DATA ===\n",
      "❌ Error viewing data: List argument must consist only of tuples or dictionaries\n",
      "\n",
      "=== DOCUMENT EMBEDDINGS ===\n",
      "❌ Error viewing embeddings: List argument must consist only of tuples or dictionaries\n"
     ]
    }
   ],
   "source": [
    "def view_sample_data(limit=10):\n",
    "    \"\"\"View sample data from database\"\"\"\n",
    "    if not conn:\n",
    "        print(\"❌ No database connection\")\n",
    "        return\n",
    "    \n",
    "    try:\n",
    "        df = pd.read_sql(\"\"\"\n",
    "            SELECT id, data, created_at, \n",
    "                   vector_extension_available,\n",
    "                   embedding::text as embedding\n",
    "            FROM sample_data \n",
    "            ORDER BY created_at DESC \n",
    "            LIMIT %s\n",
    "        \"\"\", engine, params=[limit])\n",
    "        \n",
    "        print(f\"📊 Sample Data ({len(df)} records):\")\n",
    "        display(df)\n",
    "        return df\n",
    "        \n",
    "    except Exception as e:\n",
    "        print(f\"❌ Error viewing data: {e}\")\n",
    "        return None\n",
    "\n",
    "def view_document_embeddings(limit=10):\n",
    "    \"\"\"View document embeddings from database\"\"\"\n",
    "    if not conn:\n",
    "        print(\"❌ No database connection\")\n",
    "        return\n",
    "    \n",
    "    try:\n",
    "        df = pd.read_sql(\"\"\"\n",
    "            SELECT id, content, \n",
    "                   embedding::text as embedding,\n",
    "                   metadata, created_at\n",
    "            FROM document_embeddings \n",
    "            ORDER BY created_at DESC \n",
    "            LIMIT %s\n",
    "        \"\"\", engine, params=[limit])\n",
    "        \n",
    "        print(f\"📊 Document Embeddings ({len(df)} records):\")\n",
    "        display(df)\n",
    "        return df\n",
    "        \n",
    "    except Exception as e:\n",
    "        print(f\"❌ Error viewing embeddings: {e}\")\n",
    "        return None\n",
    "\n",
    "def view_all_data():\n",
    "    \"\"\"View all data from both tables\"\"\"\n",
    "    print(\"=== SAMPLE DATA ===\")\n",
    "    sample_df = view_sample_data()\n",
    "    \n",
    "    print(\"\\n=== DOCUMENT EMBEDDINGS ===\")\n",
    "    embeddings_df = view_document_embeddings()\n",
    "    \n",
    "    return sample_df, embeddings_df\n",
    "\n",
    "# View the data\n",
    "sample_data, doc_embeddings = view_all_data()"
   ]
  },
  {
   "cell_type": "markdown",
   "id": "7223ac25",
   "metadata": {},
   "source": [
    "## 5. Basic Similarity Search"
   ]
  },
  {
   "cell_type": "code",
   "execution_count": null,
   "id": "204cf4be",
   "metadata": {},
   "outputs": [],
   "source": [
    "def find_similar_documents(query_vector, limit=5):\n",
    "    \"\"\"Find documents similar to query vector\"\"\"\n",
    "    if not conn:\n",
    "        print(\"❌ No database connection\")\n",
    "        return\n",
    "    \n",
    "    try:\n",
    "        # Convert query vector to PostgreSQL format\n",
    "        query_str = '[' + ','.join(map(str, query_vector)) + ']'\n",
    "        \n",
    "        with conn.cursor() as cursor:\n",
    "            # Find similar documents using cosine similarity\n",
    "            cursor.execute(\"\"\"\n",
    "                SELECT id, content, \n",
    "                       1 - (embedding <=> %s::VECTOR) as similarity,\n",
    "                       embedding::text as embedding\n",
    "                FROM document_embeddings \n",
    "                ORDER BY embedding <=> %s::VECTOR\n",
    "                LIMIT %s\n",
    "            \"\"\", (query_str, query_str, limit))\n",
    "            \n",
    "            results = cursor.fetchall()\n",
    "            \n",
    "            print(f\"🔍 Similar documents to query {query_vector}:\")\n",
    "            print(\"-\" * 60)\n",
    "            \n",
    "            for row in results:\n",
    "                doc_id, content, similarity, embedding = row\n",
    "                print(\".4f\")\n",
    "                print(f\"   Content: {content[:50]}...\")\n",
    "                print()\n",
    "                \n",
    "            return results\n",
    "            \n",
    "    except Exception as e:\n",
    "        print(f\"❌ Error in similarity search: {e}\")\n",
    "        return None\n",
    "\n",
    "# Example similarity search\n",
    "print(\"🔍 Testing similarity search...\")\n",
    "\n",
    "# Search using the vector we added earlier\n",
    "query_vector = [0.4, 0.5, 0.6, 0.7, 0.8]\n",
    "similar_docs = find_similar_documents(query_vector, limit=3)\n",
    "\n",
    "# Search with a different vector\n",
    "print(\"\\n🔍 Testing with different query vector...\")\n",
    "different_query = [0.2, 0.3, 0.4, 0.5, 0.6]\n",
    "similar_docs2 = find_similar_documents(different_query, limit=3)"
   ]
  },
  {
   "cell_type": "markdown",
   "id": "e9309d22",
   "metadata": {},
   "source": [
    "## 6. Cleanup"
   ]
  },
  {
   "cell_type": "code",
   "execution_count": null,
   "id": "a5bbe52b",
   "metadata": {},
   "outputs": [],
   "source": [
    "# Close connections\n",
    "if conn:\n",
    "    conn.close()\n",
    "    print(\"🔌 Database connection closed.\")\n",
    "\n",
    "if 'engine' in locals():\n",
    "    engine.dispose()\n",
    "    print(\"🔌 SQLAlchemy engine disposed.\")\n",
    "\n",
    "print(\"✅ Notebook completed successfully!\")"
   ]
  }
 ],
 "metadata": {
  "kernelspec": {
   "display_name": "rag-env",
   "language": "python",
   "name": "python3"
  },
  "language_info": {
   "codemirror_mode": {
    "name": "ipython",
    "version": 3
   },
   "file_extension": ".py",
   "mimetype": "text/x-python",
   "name": "python",
   "nbconvert_exporter": "python",
   "pygments_lexer": "ipython3",
   "version": "3.12.4"
  }
 },
 "nbformat": 4,
 "nbformat_minor": 5
}
